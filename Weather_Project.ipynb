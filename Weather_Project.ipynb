{
  "nbformat": 4,
  "nbformat_minor": 0,
  "metadata": {
    "colab": {
      "name": "Weather Project.ipynb",
      "provenance": [],
      "collapsed_sections": [],
      "authorship_tag": "ABX9TyOJPIZrGVCN1zGbfx5n6JY9",
      "include_colab_link": true
    },
    "kernelspec": {
      "name": "python3",
      "display_name": "Python 3"
    },
    "language_info": {
      "name": "python"
    }
  },
  "cells": [
    {
      "cell_type": "markdown",
      "metadata": {
        "id": "view-in-github",
        "colab_type": "text"
      },
      "source": [
        "<a href=\"https://colab.research.google.com/github/Chethanbhat04/Shapeai/blob/Chethanbhat04-patch-1/Weather_Project.ipynb\" target=\"_parent\"><img src=\"https://colab.research.google.com/assets/colab-badge.svg\" alt=\"Open In Colab\"/></a>"
      ]
    },
    {
      "cell_type": "code",
      "metadata": {
        "colab": {
          "base_uri": "https://localhost:8080/"
        },
        "id": "oW8Dl0CfS1AU",
        "outputId": "9be24e33-d72b-4619-e8e2-dda04649c22e"
      },
      "source": [
        " import requests\n",
        "#import os\n",
        "from datetime import datetime\n",
        "api_key = '94d34d21ff067de4e3359a5901783296'\n",
        "location = input(\"Enter the city name: \")\n",
        "complete_api_link = \"https://api.openweathermap.org/data/2.5/weather?q=\"+location+\"&appid=\"+api_key\n",
        "api_link = requests.get(complete_api_link)\n",
        "api_data = api_link.json()\n",
        " \n",
        "#create variables to store and display data\n",
        "temp_city = ((api_data['main']['temp']) - 273.15)\n",
        "weather_desc = api_data['weather'][0]['description']\n",
        "hmdt = api_data['main']['humidity']\n",
        "wind_spd = api_data['wind']['speed']\n",
        "date_time = datetime.now().strftime(\"%d %b %Y | %I:%M:%S %p\")\n",
        "print (\"-------------------------------------------------------------\")\n",
        "print (\"Weather Stats for - {}  || {}\".format(location.upper(), date_time))\n",
        "print (\"-------------------------------------------------------------\")\n",
        "print (\"Current temperature is: {:.2f} deg C\".format(temp_city))\n",
        "print (\"Current weather desc  :\",weather_desc)\n",
        "print (\"Current Humidity      :\",hmdt, '%')\n",
        "print (\"Current wind speed    :\",wind_spd ,'kmph')\n",
        "with open('Shapeai Project.txt','w') as f:\n",
        "  Weather_stats = \"Weather Stats for - {}  || {}\\n\".format(location.upper(), date_time)\n",
        "  Current_temp = \"Current temperature is: {:.2f} deg C\\n\".format(temp_city)\n",
        "  Current_weather_desc = \"Current weather desc  :{}\\n\".format(weather_desc)\n",
        "  Humidity = \"Current Humidity      :{} %\\n\".format(hmdt)\n",
        "  Wind_speed = \"Current wind speed    :{} kmph\\n\".format(wind_spd) \n",
        "  f.write(Weather_stats + Current_temp + Current_weather_desc + Humidity + Wind_speed)"
      ],
      "execution_count": null,
      "outputs": [
        {
          "output_type": "stream",
          "text": [
            "Enter the city name: udupi\n",
            "-------------------------------------------------------------\n",
            "Weather Stats for - UDUPI  || 23 Jun 2021 | 05:20:44 AM\n",
            "-------------------------------------------------------------\n",
            "Current temperature is: 29.58 deg C\n",
            "Current weather desc  : overcast clouds\n",
            "Current Humidity      : 75 %\n",
            "Current wind speed    : 2.19 kmph\n"
          ],
          "name": "stdout"
        }
      ]
    }
  ]
}